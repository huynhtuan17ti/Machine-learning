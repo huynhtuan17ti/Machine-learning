{
 "cells": [
  {
   "cell_type": "code",
   "execution_count": 1,
   "metadata": {},
   "outputs": [],
   "source": [
    "import math\n",
    "import numpy as np "
   ]
  },
  {
   "cell_type": "code",
   "execution_count": 80,
   "metadata": {},
   "outputs": [
    {
     "output_type": "stream",
     "name": "stdout",
     "text": "-0.9589242746631385\n0.08715574274765817\n"
    }
   ],
   "source": [
    "#find minimum of x^2 + 5*sin(x)\n",
    "print(np.sin(5))\n",
    "print(np.sin(5/180*np.pi))"
   ]
  },
  {
   "cell_type": "code",
   "execution_count": 127,
   "metadata": {},
   "outputs": [],
   "source": [
    "def to_degree(x):\n",
    "    return x\n",
    "\n",
    "def grad(x):\n",
    "    return 2*x + 5*0.001*np.cos(np.radians(x))\n",
    "\n",
    "def cost(x):\n",
    "    return x**2 + 5*np.sin(np.radians(x))\n",
    "\n",
    "def myGD(ln_rate, x0):\n",
    "    x = [x0]\n",
    "    for cnt in range(1000):\n",
    "        x_new = x[-1] - ln_rate*grad(x[-1])\n",
    "        if abs(grad(x_new)) < 1e-3:\n",
    "            break\n",
    "        x.append(x_new)\n",
    "    return (x, cnt)"
   ]
  },
  {
   "cell_type": "code",
   "execution_count": 128,
   "metadata": {},
   "outputs": [
    {
     "output_type": "stream",
     "name": "stdout",
     "text": "-0.0019038574021411788\n"
    }
   ],
   "source": [
    "print(cost(-0.0436))"
   ]
  },
  {
   "cell_type": "code",
   "execution_count": 129,
   "metadata": {},
   "outputs": [
    {
     "output_type": "stream",
     "name": "stdout",
     "text": "-2.2350009552498102\n"
    }
   ],
   "source": [
    "print(grad(-1.12))"
   ]
  },
  {
   "cell_type": "code",
   "execution_count": 130,
   "metadata": {},
   "outputs": [
    {
     "output_type": "stream",
     "name": "stdout",
     "text": "Solution x1 = -0.0019906077002941076, cost = -0.00016975077337700632, after 455 iterations\n"
    }
   ],
   "source": [
    "(x1, cnt1) = myGD(0.01, 5)\n",
    "print('Solution x1 = {}, cost = {}, after {} iterations'.format(x1[-1], cost(x1[-1]), cnt1))"
   ]
  },
  {
   "cell_type": "code",
   "execution_count": 131,
   "metadata": {
    "tags": [
     "outputPrepend"
    ]
   },
   "outputs": [
    {
     "output_type": "stream",
     "name": "stdout",
     "text": "lution x1 = 0.046473287976828426, cost = 0.0062153254977992105, after 229 iterations\nSolution x1 = 0.04549382223373942, cost = 0.006039772380748607, after 230 iterations\nSolution x1 = 0.044533945804826204, cost = 0.005869591853628777, after 231 iterations\nSolution x1 = 0.04359326690383316, cost = 0.005704602748175286, after 232 iterations\nSolution x1 = 0.04267140158022866, cost = 0.005544630438659462, after 233 iterations\nSolution x1 = 0.041767973562490644, cost = 0.00538950659543862, after 234 iterations\nSolution x1 = 0.04088261410452644, cost = 0.005239068948013006, after 235 iterations\nSolution x1 = 0.04001496183516426, cost = 0.005093161057218031, after 236 iterations\nSolution x1 = 0.03916466261065479, cost = 0.004951632096195017, after 237 iterations\nSolution x1 = 0.038331369370122784, cost = 0.004814336639797648, after 238 iterations\nSolution x1 = 0.03751474199390964, cost = 0.0046811344621048535, after 239 iterations\nSolution x1 = 0.03671444716474907, cost = 0.004551890341723772, after 240 iterations\nSolution x1 = 0.03593015823171932, cost = 0.004426473874578851, after 241 iterations\nSolution x1 = 0.03516155507691628, cost = 0.00430475929389514, after 242 iterations\nSolution x1 = 0.03440832398479319, cost = 0.004186625297095255, after 243 iterations\nSolution x1 = 0.03367015751411349, cost = 0.004071954879340539, after 244 iterations\nSolution x1 = 0.03294675437246468, cost = 0.003960635173457524, after 245 iterations\nSolution x1 = 0.03223781929328185, cost = 0.003852557296000963, after 246 iterations\nSolution x1 = 0.03154306291533076, cost = 0.00374761619921447, after 247 iterations\nSolution x1 = 0.030862201664601234, cost = 0.003645710528659192, after 248 iterations\nSolution x1 = 0.030194957638562725, cost = 0.0035467424862899452, after 249 iterations\nSolution x1 = 0.029541058492734733, cost = 0.003450617698766905, after 250 iterations\nSolution x1 = 0.028900237329525832, cost = 0.0033572450907992457, after 251 iterations\nSolution x1 = 0.02827223258929591, cost = 0.003266536763325142, after 252 iterations\nSolution x1 = 0.027656787943597154, cost = 0.0031784078763401774, after 253 iterations\nSolution x1 = 0.02705365219055024, cost = 0.0030927765361936075, after 254 iterations\nSolution x1 = 0.02646257915231297, cost = 0.003009563687178991, after 255 iterations\nSolution x1 = 0.025883327574599557, cost = 0.002928693007252505, after 256 iterations\nSolution x1 = 0.0253156610282095, cost = 0.0028500908077187955, after 257 iterations\nSolution x1 = 0.024759347812525912, cost = 0.0027736859367304867, after 258 iterations\nSolution x1 = 0.02421416086094385, cost = 0.002699409686453512, after 259 iterations\nSolution x1 = 0.023679877648190097, cost = 0.002627195703756201, after 260 iterations\nSolution x1 = 0.023156280099496548, cost = 0.00255697990428564, after 261 iterations\nSolution x1 = 0.022643154501590115, cost = 0.002488700389800153, after 262 iterations\nSolution x1 = 0.02214029141546284, cost = 0.0024222973686319, after 263 iterations\nSolution x1 = 0.02164748559088661, cost = 0.002357713079158495, after 264 iterations\nSolution x1 = 0.021164535882637576, cost = 0.0022948917161673132, after 265 iterations\nSolution x1 = 0.020691245168396065, cost = 0.0022337793600006872, after 266 iterations\nSolution x1 = 0.020227420268288523, cost = 0.0021743239083745728, after 267 iterations\nSolution x1 = 0.019772871866038596, cost = 0.0021164750107674607, after 268 iterations\nSolution x1 = 0.019327414431695205, cost = 0.0020601840052803513, after 269 iterations\nSolution x1 = 0.01889086614590604, cost = 0.002005403857872476, after 270 iterations\nSolution x1 = 0.0184630488257056, cost = 0.0019520891038811786, after 271 iterations\nSolution x1 = 0.01804378785178747, cost = 0.0019001957917379505, after 272 iterations\nSolution x1 = 0.01763291209723114, cost = 0.0018496814287960435, after 273 iterations\nSolution x1 = 0.017230253857654306, cost = 0.0018005049291883782, after 274 iterations\nSolution x1 = 0.016835648782762103, cost = 0.0017526265636376652, after 275 iterations\nSolution x1 = 0.016448935809265375, cost = 0.0017060079111436627, after 276 iterations\nSolution x1 = 0.016069957095140558, cost = 0.0016606118124754621, after 277 iterations\nSolution x1 = 0.015698557955204383, cost = 0.0016164023253994733, after 278 iterations\nSolution x1 = 0.01533458679797708, cost = 0.0015733446815765011, after 279 iterations\nSolution x1 = 0.014977895063808304, cost = 0.0015314052450638952, after 280 iterations\nSolution x1 = 0.014628337164240564, cost = 0.0014905514723612442, after 281 iterations\nSolution x1 = 0.014285770422585366, cost = 0.0014507518739404908, after 282 iterations\nSolution x1 = 0.013950055015687841, cost = 0.0014119759772036377, after 283 iterations\nSolution x1 = 0.013621053916856078, cost = 0.0013741942908134246, after 284 iterations\nSolution x1 = 0.013298632839931872, cost = 0.0013373782703444915, after 285 iterations\nSolution x1 = 0.012982660184480051, cost = 0.0013015002852045717, after 286 iterations\nSolution x1 = 0.012673006982074027, cost = 0.0012665335867772286, after 287 iterations\nSolution x1 = 0.012369546843655625, cost = 0.0012324522777395286, after 288 iterations\nSolution x1 = 0.012072155907947718, cost = 0.001199231282509856, after 289 iterations\nSolution x1 = 0.011780712790898614, cost = 0.0011668463187828127, after 290 iterations\nSolution x1 = 0.011495098536137551, cost = 0.0011352738701098195, after 291 iterations\nSolution x1 = 0.011215196566421084, cost = 0.0011044911594856397, after 292 iterations\nSolution x1 = 0.010940892636050536, cost = 0.0010744761239025828, after 293 iterations\nSolution x1 = 0.010672074784241117, cost = 0.0010452073898356443, after 294 iterations\nSolution x1 = 0.01040863328942364, cost = 0.00101666424962324, after 295 iterations\nSolution x1 = 0.010150460624460221, cost = 0.0009888266387095813, after 296 iterations\nSolution x1 = 0.009897451412755649, cost = 0.0009616751137160388, after 297 iterations\nSolution x1 = 0.00964950238524654, cost = 0.0009351908313101144, after 298 iterations\nSolution x1 = 0.009406512338250704, cost = 0.0009093555278418494, after 299 iterations\nSolution x1 = 0.009168382092159522, cost = 0.0008841514997186662, after 300 iterations\nSolution x1 = 0.00893501445095648, cost = 0.0008595615844907606, after 301 iterations\nSolution x1 = 0.008706314162545326, cost = 0.0008355691426202392, after 302 iterations\nSolution x1 = 0.008482187879871669, cost = 0.0008121580399082316, after 303 iterations\nSolution x1 = 0.008262544122822147, cost = 0.0007893126305551994, after 304 iterations\nSolution x1 = 0.008047293240885607, cost = 0.0007670177408306237, after 305 iterations\nSolution x1 = 0.007836347376561062, cost = 0.0007452586533291648, after 306 iterations\nSolution x1 = 0.007629620429497492, cost = 0.0007240210917912777, after 307 iterations\nSolution x1 = 0.007427028021350845, cost = 0.0007032912064671092, after 308 iterations\nSolution x1 = 0.007228487461343901, cost = 0.0006830555600033185, after 309 iterations\nSolution x1 = 0.0070339177125149374, cost = 0.0006633011138332474, after 310 iterations\nSolution x1 = 0.00684323935864142, cost = 0.0006440152150516193, after 311 iterations\nSolution x1 = 0.006656374571825221, cost = 0.0006251855837556662, after 312 iterations\nSolution x1 = 0.006473247080726136, cost = 0.0006068003008352816, after 313 iterations\nSolution x1 = 0.0062937821394307225, cost = 0.0005888477961954603, after 314 iterations\nSolution x1 = 0.0061179064969437685, cost = 0.0005713168373949355, after 315 iterations\nSolution x1 = 0.0059455483672899295, cost = 0.000554196518685531, after 316 iterations\nSolution x1 = 0.005776637400213333, cost = 0.0005374762504373477, after 317 iterations\nSolution x1 = 0.00561110465246319, cost = 0.0005211457489354669, after 318 iterations\nSolution x1 = 0.005448882559653694, cost = 0.0005051950265344056, after 319 iterations\nSolution x1 = 0.0052899049086867255, cost = 0.0004896143821570799, after 320 iterations\nSolution x1 = 0.005134106810726094, cost = 0.00047439439212554465, after 321 iterations\nSolution x1 = 0.004981424674712308, cost = 0.0004595259013112584, after 322 iterations\nSolution x1 = 0.004831796181407035, cost = 0.00044500001459309206, after 323 iterations\nSolution x1 = 0.004685160257956686, cost = 0.0004308080886117495, after 324 iterations\nSolution x1 = 0.004541457052964716, cost = 0.00041694172380969815, after 325 iterations\nSolution x1 = 0.00440062791206249, cost = 0.0004033927567461255, after 326 iterations\nSolution x1 = 0.004262615353968716, cost = 0.0003901532526768318, after 327 iterations\nSolution x1 = 0.0041273630470277135, cost = 0.00037721549838935797, after 328 iterations\nSolution x1 = 0.003994815786216889, cost = 0.000364571995284011, after 329 iterations\nSolution x1 = 0.0038649194706140825, cost = 0.0003522154526918084, after 330 iterations\nSolution x1 = 0.003737621081315557, cost = 0.0003401387814206979, after 331 iterations\nSolution x1 = 0.003612868659795632, cost = 0.0003283350875217437, after 332 iterations\nSolution x1 = 0.0034906112866991226, cost = 0.0003167976662672762, after 333 iterations\nSolution x1 = 0.0033707990610579294, cost = 0.0003055199963333129, after 334 iterations\nSolution x1 = 0.0032533830799232996, cost = 0.0002944957341788427, after 335 iterations\nSolution x1 = 0.0031383154184054392, cost = 0.00028371870861484987, after 336 iterations\nSolution x1 = 0.003025549110112335, cost = 0.0002731829155562197, after 337 iterations\nSolution x1 = 0.0029150381279797995, cost = 0.00026288251294992796, after 338 iterations\nSolution x1 = 0.0028067373654849155, cost = 0.00025281181587316365, after 339 iterations\nSolution x1 = 0.00270060261823521, cost = 0.00024296529179527464, after 340 iterations\nSolution x1 = 0.002596590565926047, cost = 0.00023333755599765397, after 341 iterations\nSolution x1 = 0.0024946587546588717, cost = 0.00022392336714590637, after 342 iterations\nSolution x1 = 0.0023947655796130876, cost = 0.00021471762300884637, after 343 iterations\nSolution x1 = 0.0022968702680644998, cost = 0.00020571535631908421, after 344 iterations\nSolution x1 = 0.002200932862743386, cost = 0.00019691173077015058, after 345 iterations\nSolution x1 = 0.002106914205525408, cost = 0.00018830203714530186, after 346 iterations\nSolution x1 = 0.0020147759214487054, cost = 0.00017988168957332702, after 347 iterations\nSolution x1 = 0.0019244804030506448, cost = 0.00017164622190685388, after 348 iterations\nSolution x1 = 0.0018359907950178367, cost = 0.00016359128421881833, after 349 iterations\nSolution x1 = 0.0017492709791431505, cost = 0.00015571263941292264, after 350 iterations\nSolution x1 = 0.0016642855595835903, cost = 0.00014800615994406437, after 351 iterations\nSolution x1 = 0.0015809998484130122, cost = 0.0001404678246448651, after 352 iterations\nSolution x1 = 0.0014993798514637872, cost = 0.0001330937156545743, after 353 iterations\nSolution x1 = 0.001419392254451632, cost = 0.00012588001544675844, after 354 iterations\nSolution x1 = 0.001341004409377942, cost = 0.00011882300395232195, after 355 iterations\nSolution x1 = 0.0012641843212040779, cost = 0.00011191905577453062, after 356 iterations\nSolution x1 = 0.001188900634792167, cost = 0.00010516463749283365, after 357 iterations\nSolution x1 = 0.0011151226221070881, cost = 9.85563050523974e-05, after 358 iterations\nSolution x1 = 0.001042820169674416, cost = 9.209070123637785e-05, after 359 iterations\nSolution x1 = 0.0009719637662892093, cost = 8.576455321806777e-05, after 360 iterations\nSolution x1 = 0.0009025244909706196, cost = 7.95746701901604e-05, after 361 iterations\nSolution x1 = 0.0008344740011574103, cost = 7.351794106847209e-05, after 362 iterations\nSolution x1 = 0.0007677845211395651, cost = 6.759133226756334e-05, after 363 iterations\nSolution x1 = 0.000702428830721263, cost = 6.17918855457926e-05, after 364 iterations\nSolution x1 = 0.0006383802541105952, cost = 5.6116715917425436e-05, after 365 iterations\nSolution x1 = 0.0005756126490314868, cost = 5.056300962951004e-05, after 366 iterations\nSolution x1 = 0.0005141003960533804, cost = 4.5128022201312e-05, after 367 iterations\nSolution x1 = 0.0004538183881343255, cost = 3.9809076524182476e-05, after 368 iterations\nSolution x1 = 0.0003947420203732074, cost = 3.460356101981083e-05, after 369 iterations\nSolution x1 = 0.0003368471799669299, cost = 2.950892785488639e-05, after 370 iterations\nSolution x1 = 0.0002801102363684554, cost = 2.452269121026657e-05, after 371 iterations\nSolution x1 = 0.0002245080316416838, cost = 1.964242560281645e-05, after 372 iterations\nSolution x1 = 0.00017001787100923399, cost = 1.4865764258151479e-05, after 373 iterations\nSolution x1 = 0.00011661751358926943, cost = 1.0190397532578625e-05, after 374 iterations\nSolution x1 = 6.42851633175876e-05, cost = 5.6140713825925155e-06, after 375 iterations\nSolution x1 = 1.2999460051267313e-05, cost = 1.1345858803420422e-06, after 376 iterations\nSolution x1 = -3.7260529149756746e-05, cost = -3.250206226460143e-06, after 377 iterations\nSolution x1 = -8.651531856675103e-05, cost = -7.54240091165836e-06, after 378 iterations\nSolution x1 = -0.000134785012195359, cost = -1.1744044226225275e-05, after 379 iterations\nSolution x1 = -0.0001820893119513135, cost = -1.5857133613653752e-05, after 380 iterations\nSolution x1 = -0.00022844752571203473, cost = -1.9883619186490278e-05, after 381 iterations\nSolution x1 = -0.0002738785751973966, cost = -2.3825404965284074e-05, after 382 iterations\nSolution x1 = -0.00031840100369287744, cost = -2.7684350081181032e-05, after 383 iterations\nSolution x1 = -0.00036203298361824787, cost = -3.146226994334784e-05, after 384 iterations\nSolution x1 = -0.00040479232394488476, cost = -3.5160937372370034e-05, after 385 iterations\nSolution x1 = -0.00044669647746473925, cost = -3.878208370072745e-05, after 386 iterations\nSolution x1 = -0.0004877625479139249, cost = -4.2327399841411326e-05, after 387 iterations\nSolution x1 = -0.0005280072969538346, cost = -4.579853732571052e-05, after 388 iterations\nSolution x1 = -0.0005674471510126348, cost = -4.9197109311157894e-05, after 389 iterations\nSolution x1 = -0.00060609820798993, cost = -5.252469156059334e-05, after 390 iterations\nSolution x1 = -0.0006439762438273339, cost = -5.578282339326677e-05, after 391 iterations\nSolution x1 = -0.000681096718947629, cost = -5.897300860887182e-05, after 392 iterations\nSolution x1 = -0.0007174747845651437, cost = -6.209671638537062e-05, after 393 iterations\nSolution x1 = -0.0007531252888699206, cost = -6.515538215143961e-05, after 394 iterations\nSolution x1 = -0.0007880627830882028, cost = -6.815040843433803e-05, after 395 iterations\nSolution x1 = -0.0008223015274217092, cost = -7.108316568397279e-05, after 396 iterations\nSolution x1 = -0.0008558554968681256, cost = -7.395499307390718e-05, after 397 iterations\nSolution x1 = -0.0008887383869251848, cost = -7.676719928003452e-05, after 398 iterations\nSolution x1 = -0.0009209636191806661, cost = -7.952106323761397e-05, after 399 iterations\nSolution x1 = -0.0009525443467905935, cost = -8.221783487734079e-05, after 400 iterations\nSolution x1 = -0.0009834934598478718, cost = -8.485873584110183e-05, after 401 iterations\nSolution x1 = -0.0010138235906435482, cost = -8.744496017804331e-05, after 402 iterations\nSolution x1 = -0.00104354711882285, cost = -8.997767502155781e-05, after 403 iterations\nSolution x1 = -0.0010726761764380999, cost = -9.24580212477761e-05, after 404 iterations\nSolution x1 = -0.0011012226529005752, cost = -9.488711411613055e-05, after 405 iterations\nSolution x1 = -0.0011291981998333286, cost = -9.72660438925364e-05, after 406 iterations\nSolution x1 = -0.0011566142358269518, cost = -9.959587645571964e-05, after 407 iterations\nSolution x1 = -0.0011834819511002252, cost = -0.00010187765388720324, after 408 iterations\nSolution x1 = -0.0012098123120675543, cost = -0.0001041123950454443, after 409 iterations\nSolution x1 = -0.0012356160658150569, cost = -0.00010630109612460022, after 410 iterations\nSolution x1 = -0.001260903744487129, cost = -0.00010844473119838512, after 411 iterations\nSolution x1 = -0.0012856856695852787, cost = -0.00011054425274946246, after 412 iterations\nSolution x1 = -0.001309971956180985, cost = -0.00011260059218480523, after 413 iterations\nSolution x1 = -0.001333772517044297, cost = -0.00011461466033744092, after 414 iterations\nSolution x1 = -0.0013570970666898635, cost = -0.00011658734795498422, after 415 iterations\nSolution x1 = -0.0013799551253420408, cost = -0.00011851952617534801, after 416 iterations\nSolution x1 = -0.001402356022820698, cost = -0.00012041204699000938, after 417 iterations\nSolution x1 = -0.0014243089023493075, cost = -0.00012226574369519598, after 418 iterations\nSolution x1 = -0.0014458227242868723, cost = -0.00012408143133134573, after 419 iterations\nSolution x1 = -0.0014669062697852155, cost = -0.0001258599071111811, after 420 iterations\nSolution x1 = -0.0014875681443731242, cost = -0.00012760195083672904, after 421 iterations\nSolution x1 = -0.00150781678146881, cost = -0.00012930832530560596, after 422 iterations\nSolution x1 = -0.00152766044582212, cost = -0.00013097977670687737, after 423 iterations\nSolution x1 = -0.0015471072368879052, cost = -0.0001326170350067918, after 424 iterations\nSolution x1 = -0.0015661650921319193, cost = -0.0001342208143246789, after 425 iterations\nSolution x1 = -0.0015848417902706012, cost = -0.00013579181329929265, after 426 iterations\nSolution x1 = -0.0016031449544460612, cost = -0.00013733071544587105, after 427 iterations\nSolution x1 = -0.0016210820553375677, cost = -0.00013883818950417582, after 428 iterations\nSolution x1 = -0.0016386604142108036, cost = -0.0001403148897777667, after 429 iterations\nSolution x1 = -0.0016558872059061385, cost = -0.00014176145646475736, after 430 iterations\nSolution x1 = -0.0016727694617671345, cost = -0.00014317851598029114, after 431 iterations\nSolution x1 = -0.0016893140725104826, cost = -0.00014456668127096976, after 432 iterations\nSolution x1 = -0.00170552779103854, cost = -0.00014592655212145703, after 433 iterations\nSolution x1 = -0.0017214172351956174, cost = -0.0001472587154534771, after 434 iterations\nSolution x1 = -0.0017369888904691384, cost = -0.00014856374561741595, after 435 iterations\nSolution x1 = -0.0017522491126367788, cost = -0.0001498422046767312, after 436 iterations\nSolution x1 = -0.001767204130360661, cost = -0.00015109464268536752, after 437 iterations\nSolution x1 = -0.0017818600477296645, cost = -0.0001523215979583694, after 438 iterations\nSolution x1 = -0.001796222846750892, cost = -0.00015352359733587683, after 439 iterations\nSolution x1 = -0.0018102983897913035, cost = -0.00015470115644068417, after 440 iterations\nSolution x1 = -0.0018240924219705202, cost = -0.00015585477992953632, after 441 iterations\nSolution x1 = -0.0018376105735057708, cost = -0.00015698496173833238, after 442 iterations\nSolution x1 = -0.0018508583620099395, cost = -0.00015809218532139956, after 443 iterations\nSolution x1 = -0.0018638411947436528, cost = -0.0001591769238849979, after 444 iterations\nSolution x1 = -0.0018765643708223245, cost = -0.00016023964061520908, after 445 iterations\nSolution x1 = -0.0018890330833790604, cost = -0.0001612807889003598, after 446 iterations\nSolution x1 = -0.001901252421684304, cost = -0.00016230081254812448, after 447 iterations\nSolution x1 = -0.00191322737322309, cost = -0.00016330014599744868, after 448 iterations\nSolution x1 = -0.0019249628257307523, cost = -0.00016427921452542965, after 449 iterations\nSolution x1 = -0.0019364635691879184, cost = -0.00016523843444928688, after 450 iterations\nSolution x1 = -0.001947734297775603, cost = -0.00016617821332355121, after 451 iterations\nSolution x1 = -0.0019587796117912005, cost = -0.0001670989501325979, after 452 iterations\nSolution x1 = -0.0019696040195261574, cost = -0.00016800103547864482, after 453 iterations\nSolution x1 = -0.0019802119391060915, cost = -0.0001688848517653333, after 454 iterations\nSolution x1 = -0.0019906077002941076, cost = -0.00016975077337700632, after 455 iterations\n"
    }
   ],
   "source": [
    "for cnt in range(cnt1+1):\n",
    "    print('Solution x1 = {}, cost = {}, after {} iterations'.format(x1[cnt], cost(x1[cnt]), cnt))"
   ]
  },
  {
   "cell_type": "code",
   "execution_count": null,
   "metadata": {},
   "outputs": [],
   "source": []
  }
 ],
 "metadata": {
  "language_info": {
   "codemirror_mode": {
    "name": "ipython",
    "version": 3
   },
   "file_extension": ".py",
   "mimetype": "text/x-python",
   "name": "python",
   "nbconvert_exporter": "python",
   "pygments_lexer": "ipython3",
   "version": "3.7.6-final"
  },
  "orig_nbformat": 2,
  "kernelspec": {
   "name": "python37664bitminiconda3virtualenv85f0d0ade32a4fd58416e2605ac6d58e",
   "display_name": "Python 3.7.6 64-bit ('miniconda3': virtualenv)"
  }
 },
 "nbformat": 4,
 "nbformat_minor": 2
}